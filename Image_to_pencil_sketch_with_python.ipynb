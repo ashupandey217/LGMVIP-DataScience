{
  "nbformat": 4,
  "nbformat_minor": 0,
  "metadata": {
    "colab": {
      "name": "Image_to_pencil_sketch_with_python.ipynb",
      "provenance": [],
      "collapsed_sections": [],
      "authorship_tag": "ABX9TyOiX1GbbaHwoKDLVN9LElnJ",
      "include_colab_link": true
    },
    "kernelspec": {
      "name": "python3",
      "display_name": "Python 3"
    },
    "language_info": {
      "name": "python"
    }
  },
  "cells": [
    {
      "cell_type": "markdown",
      "metadata": {
        "id": "view-in-github",
        "colab_type": "text"
      },
      "source": [
        "<a href=\"https://colab.research.google.com/github/ashupandey217/LGMVIP-DataScience/blob/main/Image_to_pencil_sketch_with_python.ipynb\" target=\"_parent\"><img src=\"https://colab.research.google.com/assets/colab-badge.svg\" alt=\"Open In Colab\"/></a>"
      ]
    },
    {
      "cell_type": "code",
      "metadata": {
        "id": "6nKwyZddMP8p"
      },
      "source": [
        "#importing the library\n",
        "from google.colab.patches import cv2_imshow\n",
        "import cv2"
      ],
      "execution_count": 6,
      "outputs": []
    },
    {
      "cell_type": "code",
      "metadata": {
        "id": "CPJToN1hMsKY"
      },
      "source": [
        "#loading the respective image\n",
        "image = cv2.imread(\"/content/Snapchat-1120613407.jpg\")\n",
        "cv2_imshow(image)"
      ],
      "execution_count": null,
      "outputs": []
    },
    {
      "cell_type": "code",
      "metadata": {
        "id": "pPsED32CNLpT"
      },
      "source": [
        "#conversion to gray scale image\n",
        "image_gray = cv2.cvtColor(image, cv2.COLOR_BGR2GRAY)\n",
        "cv2_imshow(image_gray)"
      ],
      "execution_count": null,
      "outputs": []
    },
    {
      "cell_type": "code",
      "metadata": {
        "id": "LBFoER2EOaBs"
      },
      "source": [
        "#inverting the grayscale image or transforming into negative using bitwise_not operator\n",
        "image_invert = cv2.bitwise_not(image_gray)\n",
        "cv2_imshow(image_invert)"
      ],
      "execution_count": null,
      "outputs": []
    },
    {
      "cell_type": "code",
      "metadata": {
        "id": "VUiQ4wRuPYs-"
      },
      "source": [
        "#blurring the image using gaussian function\n",
        "blurred = cv2.GaussianBlur(image_invert, (21, 21), 0)"
      ],
      "execution_count": 14,
      "outputs": []
    },
    {
      "cell_type": "code",
      "metadata": {
        "id": "Dxdt6A6VQioZ"
      },
      "source": [
        "#inverting the blurred image\n",
        "blurred_invert = 255-blurred"
      ],
      "execution_count": 19,
      "outputs": []
    },
    {
      "cell_type": "code",
      "metadata": {
        "id": "rjkRpZMfRYtP"
      },
      "source": [
        "#final sketch\n",
        "final_sketch = cv2.divide(image_gray, blurred_invert, scale=256.0)\n",
        "cv2_imshow(final_sketch)"
      ],
      "execution_count": null,
      "outputs": []
    }
  ]
}